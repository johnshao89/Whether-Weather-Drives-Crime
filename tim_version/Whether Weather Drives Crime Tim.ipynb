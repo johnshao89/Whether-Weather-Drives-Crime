{
 "cells": [
  {
   "cell_type": "markdown",
   "metadata": {},
   "source": [
    "# Whether-Weather-Drives-Crime\n",
    "## Analytics with Python (Matplotlib, Pandas, and API Requests)\n",
    "### Data Analytics Bootcamp - Project 1 - Group 7\n",
    "\n",
    "#### Team Members\n",
    "Minna Wu<br>\n",
    "Tim Sutherland<br>\n",
    "Wenjie Shao<br>\n",
    "Gobind Singh<br>\n",
    "\n",
    "#### Project Description \n",
    "We are interested in seeing whether there is a correlation weather and the number of major crimes commited. For this project, we decided to look at just the City of Toronto.\n",
    " \n",
    "#### Research Questions to Answer \n",
    "Is there a correlation between weather and major crimes?<br>\n",
    "- Temperature vs. crime\n",
    "- Weekend or weekday vs. crime\n",
    "- Precipitation vs. crime\n",
    "- Moon phase vs. crime\n",
    "\n",
    "#### Data Sets to be Used\n",
    "2 APIs:\n",
    "- MCI (Major Crime Indicators) 2014-2017 (http://data.torontopolice.on.ca/datasets/mci-2014-to-2017/geoservice)\n",
    "- World Weather Online (https://www.worldweatheronline.com/developer/premium-api-explorer.aspx)\n",
    "\n",
    "#### Rough Breakdown of Tasks\n",
    "Minna Wu: Pulling and cleaning of Weather Data<br>\n",
    "Wenjie Shao: Pulling and cleaning of Crime Data<br>\n",
    "Gobind Singh:  Preparing data using Pandas<br>\n",
    "Tim Sutherland: Plotting charts and final analysis write-up<br>"
   ]
  },
  {
   "cell_type": "code",
   "execution_count": 1,
   "metadata": {},
   "outputs": [],
   "source": [
    "# Dependencies\n",
    "import requests\n",
    "from pprint import pprint\n",
    "import pandas as pd\n",
    "import matplotlib.pyplot as plt\n",
    "import numpy as np\n",
    "from datetime import datetime\n",
    "import math\n",
    "import seaborn as sb"
   ]
  },
  {
   "cell_type": "markdown",
   "metadata": {},
   "source": [
    "## Pulling and Cleaning Crime Data"
   ]
  },
  {
   "cell_type": "code",
   "execution_count": 2,
   "metadata": {},
   "outputs": [],
   "source": [
    "# Set up query url\n",
    "base_url = \"https://services.arcgis.com/S9th0jAJ7bqgIRjw/arcgis/rest/services/MCI_2014_2017/FeatureServer/0/query?where=1%3D1&outFields=*&outSR=4326&f=json\""
   ]
  },
  {
   "cell_type": "code",
   "execution_count": 3,
   "metadata": {},
   "outputs": [
    {
     "data": {
      "text/html": [
       "<div>\n",
       "<style scoped>\n",
       "    .dataframe tbody tr th:only-of-type {\n",
       "        vertical-align: middle;\n",
       "    }\n",
       "\n",
       "    .dataframe tbody tr th {\n",
       "        vertical-align: top;\n",
       "    }\n",
       "\n",
       "    .dataframe thead th {\n",
       "        text-align: right;\n",
       "    }\n",
       "</style>\n",
       "<table border=\"1\" class=\"dataframe\">\n",
       "  <thead>\n",
       "    <tr style=\"text-align: right;\">\n",
       "      <th></th>\n",
       "      <th>Date</th>\n",
       "      <th>Day_of_week</th>\n",
       "      <th>Type</th>\n",
       "    </tr>\n",
       "  </thead>\n",
       "  <tbody>\n",
       "    <tr>\n",
       "      <th>0</th>\n",
       "      <td>2014-01-25</td>\n",
       "      <td>Saturday</td>\n",
       "      <td>Assault</td>\n",
       "    </tr>\n",
       "    <tr>\n",
       "      <th>1</th>\n",
       "      <td>2014-01-25</td>\n",
       "      <td>Saturday</td>\n",
       "      <td>Assault</td>\n",
       "    </tr>\n",
       "    <tr>\n",
       "      <th>2</th>\n",
       "      <td>2014-01-25</td>\n",
       "      <td>Saturday</td>\n",
       "      <td>Assault</td>\n",
       "    </tr>\n",
       "    <tr>\n",
       "      <th>3</th>\n",
       "      <td>2014-01-25</td>\n",
       "      <td>Saturday</td>\n",
       "      <td>Break and Enter</td>\n",
       "    </tr>\n",
       "    <tr>\n",
       "      <th>4</th>\n",
       "      <td>2014-01-25</td>\n",
       "      <td>Saturday</td>\n",
       "      <td>Break and Enter</td>\n",
       "    </tr>\n",
       "  </tbody>\n",
       "</table>\n",
       "</div>"
      ],
      "text/plain": [
       "         Date Day_of_week             Type\n",
       "0  2014-01-25  Saturday            Assault\n",
       "1  2014-01-25  Saturday            Assault\n",
       "2  2014-01-25  Saturday            Assault\n",
       "3  2014-01-25  Saturday    Break and Enter\n",
       "4  2014-01-25  Saturday    Break and Enter"
      ]
     },
     "execution_count": 3,
     "metadata": {},
     "output_type": "execute_result"
    }
   ],
   "source": [
    "# Prepare lists for storing crime data\n",
    "date_of_crime = []\n",
    "day_of_week_crime = []\n",
    "crime_type_list = []\n",
    "\n",
    "# Setup offset variable (2000 records max in each pull but >130,000 records in total)\n",
    "total_pulls = math.ceil(131073/2000) # 66\n",
    "\n",
    "for pull_num in range(total_pulls):\n",
    "    \n",
    "    offset_num = pull_num*2000\n",
    "    url = f\"{base_url}&resultOffset={offset_num}\"\n",
    "    crime_data = requests.get(url).json()\n",
    "    \n",
    "    for i in range(len(crime_data['features'])):\n",
    "        \n",
    "        # Convert occurrence date to match weather date\n",
    "        day = str(crime_data['features'][i]['attributes']['occurrenceday'])\n",
    "        if day.isnumeric():\n",
    "            if int(day) < 10:\n",
    "                formatted_day = '0' + str(day)\n",
    "            else:\n",
    "                formatted_day = str(day)\n",
    "        else: # if date record is missing\n",
    "            continue\n",
    "\n",
    "        month = crime_data['features'][i]['attributes']['occurrencemonth']\n",
    "        month_dict = {'January':'01', 'February':'02', 'March':'03', 'April':'04', 'May':'05',\\\n",
    "                    'June':'06', 'July':'07', 'August':'08', 'September':'09', 'October':'10',\\\n",
    "                    'November':'11', 'December':'12'}\n",
    "        formatted_month = month_dict[month]\n",
    "        year = crime_data['features'][i]['attributes']['occurrenceyear']\n",
    "\n",
    "        # Exclude dates outside of 2014 to 2017 range (since MCI 2014-2017 has some records prior to 2014)\n",
    "        if year < 2014:\n",
    "            continue\n",
    "\n",
    "        formatted_date = f\"{year}-{formatted_month}-{formatted_day}\"\n",
    "        #print(formatted_date)\n",
    "        date_of_crime.append(formatted_date)\n",
    "\n",
    "        # Weekday\n",
    "        weekday = crime_data['features'][i]['attributes']['occurrencedayofweek']\n",
    "        day_of_week_crime.append(weekday)\n",
    "\n",
    "        # Type of Crime (MCI)\n",
    "        crime_type = crime_data['features'][i]['attributes']['MCI']\n",
    "        crime_type_list.append(crime_type)\n",
    "\n",
    "# Store lists into a dataframe\n",
    "crime_df = pd.DataFrame({'Date': date_of_crime,\n",
    "                         'Day_of_week': day_of_week_crime,\n",
    "                         'Type': crime_type_list})\n",
    "\n",
    "crime_df.head()"
   ]
  },
  {
   "cell_type": "code",
   "execution_count": 4,
   "metadata": {
    "scrolled": true
   },
   "outputs": [
    {
     "data": {
      "text/plain": [
       "Date           130167\n",
       "Day_of_week    130167\n",
       "Type           130167\n",
       "dtype: int64"
      ]
     },
     "execution_count": 4,
     "metadata": {},
     "output_type": "execute_result"
    }
   ],
   "source": [
    "crime_df.count()"
   ]
  },
  {
   "cell_type": "code",
   "execution_count": 5,
   "metadata": {},
   "outputs": [
    {
     "data": {
      "image/png": "[encoded data removed]",
      "text/plain": [
       "<Figure size 432x288 with 1 Axes>"
      ]
     },
     "metadata": {},
     "output_type": "display_data"
    }
   ],
   "source": [
    "# Histogram by Type of Crime\n",
    "sb.set()\n",
    "plt.hist(crime_type_list)\n",
    "plt.title('Number of Crimes in Toronto by Type (2014-2017)', fontsize = 14, fontweight = 'bold')\n",
    "plt.xlabel('Major Crime Indicator', fontweight = 'bold')\n",
    "plt.ylabel('Number of Crimes (2014-2017)', fontweight = 'bold')\n",
    "plt.grid()\n",
    "plt.show()"
   ]
  },
  {
   "cell_type": "code",
   "execution_count": 6,
   "metadata": {},
   "outputs": [
    {
     "data": {
      "image/png": "[encoded data removed]",
      "text/plain": [
       "<Figure size 432x288 with 1 Axes>"
      ]
     },
     "metadata": {},
     "output_type": "display_data"
    },
    {
     "data": {
      "text/html": [
       "<div>\n",
       "<style scoped>\n",
       "    .dataframe tbody tr th:only-of-type {\n",
       "        vertical-align: middle;\n",
       "    }\n",
       "\n",
       "    .dataframe tbody tr th {\n",
       "        vertical-align: top;\n",
       "    }\n",
       "\n",
       "    .dataframe thead th {\n",
       "        text-align: right;\n",
       "    }\n",
       "</style>\n",
       "<table border=\"1\" class=\"dataframe\">\n",
       "  <thead>\n",
       "    <tr style=\"text-align: right;\">\n",
       "      <th></th>\n",
       "      <th>2014</th>\n",
       "      <th>2015</th>\n",
       "      <th>2016</th>\n",
       "      <th>2017</th>\n",
       "    </tr>\n",
       "    <tr>\n",
       "      <th>Type</th>\n",
       "      <th></th>\n",
       "      <th></th>\n",
       "      <th></th>\n",
       "      <th></th>\n",
       "    </tr>\n",
       "  </thead>\n",
       "  <tbody>\n",
       "    <tr>\n",
       "      <th>Assault</th>\n",
       "      <td>16339</td>\n",
       "      <td>17624</td>\n",
       "      <td>18347</td>\n",
       "      <td>18507</td>\n",
       "    </tr>\n",
       "    <tr>\n",
       "      <th>Auto Theft</th>\n",
       "      <td>3488</td>\n",
       "      <td>3194</td>\n",
       "      <td>3256</td>\n",
       "      <td>3497</td>\n",
       "    </tr>\n",
       "    <tr>\n",
       "      <th>Break and Enter</th>\n",
       "      <td>7175</td>\n",
       "      <td>6898</td>\n",
       "      <td>6383</td>\n",
       "      <td>6813</td>\n",
       "    </tr>\n",
       "    <tr>\n",
       "      <th>Robbery</th>\n",
       "      <td>3583</td>\n",
       "      <td>3464</td>\n",
       "      <td>3609</td>\n",
       "      <td>3893</td>\n",
       "    </tr>\n",
       "    <tr>\n",
       "      <th>Theft Over</th>\n",
       "      <td>993</td>\n",
       "      <td>1017</td>\n",
       "      <td>1006</td>\n",
       "      <td>1081</td>\n",
       "    </tr>\n",
       "  </tbody>\n",
       "</table>\n",
       "</div>"
      ],
      "text/plain": [
       "                  2014   2015   2016   2017\n",
       "Type                                       \n",
       "Assault          16339  17624  18347  18507\n",
       "Auto Theft        3488   3194   3256   3497\n",
       "Break and Enter   7175   6898   6383   6813\n",
       "Robbery           3583   3464   3609   3893\n",
       "Theft Over         993   1017   1006   1081"
      ]
     },
     "execution_count": 6,
     "metadata": {},
     "output_type": "execute_result"
    }
   ],
   "source": [
    "# Prepare data for plotting number of crimes by year\n",
    "crimes_2014 = crime_df[crime_df.Date.str.startswith('2014')] # 31578 records\n",
    "crimes_2015 = crime_df[crime_df.Date.str.startswith('2015')] # 32197 records\n",
    "crimes_2016 = crime_df[crime_df.Date.str.startswith('2016')] # 32601 records\n",
    "crimes_2017 = crime_df[crime_df.Date.str.startswith('2017')] # 33791 records\n",
    "num_crimes_2014 = crimes_2014.groupby('Type').count()['Date'] \n",
    "num_crimes_2015 = crimes_2015.groupby('Type').count()['Date']\n",
    "num_crimes_2016 = crimes_2016.groupby('Type').count()['Date']\n",
    "num_crimes_2017 = crimes_2017.groupby('Type').count()['Date']\n",
    "crime_type_by_year_df = pd.DataFrame({'2014': num_crimes_2014,\n",
    "                                     '2015': num_crimes_2015,\n",
    "                                     '2016': num_crimes_2016,\n",
    "                                     '2017': num_crimes_2017})\n",
    "\n",
    "# Create Line Plot of the Number of Crimes By Year\n",
    "fig = plt.figure()\n",
    "ax = fig.add_subplot(1,1,1)\n",
    "plt.plot(crime_type_by_year_df.T)\n",
    "plt.title('Number of Crimes in Toronto by Year (2014-2017)', fontsize = 14, fontweight = 'bold')\n",
    "plt.xlabel('Year', fontweight = 'bold')\n",
    "plt.ylabel('Number of Crimes (2014-2017)', fontweight = 'bold')\n",
    "leg = plt.legend(crime_type_by_year_df.index, loc = 'upper right')\n",
    "\n",
    "# Get the bounding box of the original legend\n",
    "bb = leg.get_bbox_to_anchor().inverse_transformed(ax.transAxes)\n",
    "\n",
    "# Change to location of the legend\n",
    "xOffset = 0.4\n",
    "bb.x0 += xOffset\n",
    "bb.x1 += xOffset\n",
    "leg.set_bbox_to_anchor(bb, transform = ax.transAxes)\n",
    "\n",
    "plt.show()\n",
    "crime_type_by_year_df"
   ]
  },
  {
   "cell_type": "code",
   "execution_count": 7,
   "metadata": {},
   "outputs": [],
   "source": [
    "# WWO apikey\n",
    "apikey = \"aaa16c4e3129411a82002055182111\""
   ]
  },
  {
   "cell_type": "code",
   "execution_count": 8,
   "metadata": {},
   "outputs": [
    {
     "data": {
      "text/html": [
       "<div>\n",
       "<style scoped>\n",
       "    .dataframe tbody tr th:only-of-type {\n",
       "        vertical-align: middle;\n",
       "    }\n",
       "\n",
       "    .dataframe tbody tr th {\n",
       "        vertical-align: top;\n",
       "    }\n",
       "\n",
       "    .dataframe thead th {\n",
       "        text-align: right;\n",
       "    }\n",
       "</style>\n",
       "<table border=\"1\" class=\"dataframe\">\n",
       "  <thead>\n",
       "    <tr style=\"text-align: right;\">\n",
       "      <th></th>\n",
       "      <th>Date</th>\n",
       "      <th>Temp</th>\n",
       "      <th>Precip</th>\n",
       "      <th>Moon Phase</th>\n",
       "    </tr>\n",
       "  </thead>\n",
       "  <tbody>\n",
       "    <tr>\n",
       "      <th>0</th>\n",
       "      <td>2014-01-01</td>\n",
       "      <td>-8</td>\n",
       "      <td>0.9</td>\n",
       "      <td>Waning Crescent</td>\n",
       "    </tr>\n",
       "    <tr>\n",
       "      <th>1</th>\n",
       "      <td>2014-01-02</td>\n",
       "      <td>-13</td>\n",
       "      <td>3.1</td>\n",
       "      <td>Waning Crescent</td>\n",
       "    </tr>\n",
       "    <tr>\n",
       "      <th>2</th>\n",
       "      <td>2014-01-03</td>\n",
       "      <td>-14</td>\n",
       "      <td>0.2</td>\n",
       "      <td>Waning Crescent</td>\n",
       "    </tr>\n",
       "    <tr>\n",
       "      <th>3</th>\n",
       "      <td>2014-01-04</td>\n",
       "      <td>2</td>\n",
       "      <td>0.5</td>\n",
       "      <td>Waning Crescent</td>\n",
       "    </tr>\n",
       "    <tr>\n",
       "      <th>4</th>\n",
       "      <td>2014-01-05</td>\n",
       "      <td>2</td>\n",
       "      <td>12.5</td>\n",
       "      <td>Waning Crescent</td>\n",
       "    </tr>\n",
       "  </tbody>\n",
       "</table>\n",
       "</div>"
      ],
      "text/plain": [
       "         Date Temp Precip       Moon Phase\n",
       "0  2014-01-01   -8    0.9  Waning Crescent\n",
       "1  2014-01-02  -13    3.1  Waning Crescent\n",
       "2  2014-01-03  -14    0.2  Waning Crescent\n",
       "3  2014-01-04    2    0.5  Waning Crescent\n",
       "4  2014-01-05    2   12.5  Waning Crescent"
      ]
     },
     "execution_count": 8,
     "metadata": {},
     "output_type": "execute_result"
    }
   ],
   "source": [
    "# Prepare lists for storing weather data\n",
    "date_list = []\n",
    "temp_list = []\n",
    "moon_list = []\n",
    "rain_list = []\n",
    "years_of_interest = ['2014', '2015', '2016', '2017']\n",
    "months_of_interest = ['01', '02', '03', '04', '05', '06', '07', '08', '09', '10', '11', '12']\n",
    "last_day_of_month = ['31', '28', '31', '30', '31', '30', '31', '31', '30', '31', '30', '31']\n",
    "\n",
    "for year in years_of_interest:\n",
    "    for i in range(12):\n",
    "        \n",
    "        # Prepare start and end dates for query\n",
    "        start_date = f\"{year}-{months_of_interest[i]}-01\"\n",
    "        end_date = f\"{year}-{months_of_interest[i]}-{last_day_of_month[i]}\"\n",
    "        \n",
    "        # Prepare url (24hr average)\n",
    "        weather_url = f\"http://api.worldweatheronline.com/premium/v1/past-weather.ashx?key={apikey}&q=Toronto&format=json&date={start_date}&enddate={end_date}&tp=24\"\n",
    "        \n",
    "        # Request and store json data\n",
    "        data = requests.get(weather_url).json()\n",
    "        \n",
    "        for day in range(len(data['data']['weather'])):\n",
    "            # Date\n",
    "            date_list.append(data['data']['weather'][day]['date'])\n",
    "\n",
    "            # Temperature\n",
    "            temp_list.append(data['data']['weather'][day]['hourly'][0]['tempC'])\n",
    "\n",
    "            # Precipitation\n",
    "            rain_list.append(data['data']['weather'][day]['hourly'][0]['precipMM'])\n",
    "\n",
    "            # Moon_phase\n",
    "            moon_list.append(data['data']['weather'][day]['astronomy'][0]['moon_phase'])\n",
    "\n",
    "# Store lists into a dataframe\n",
    "weather_df = pd.DataFrame({'Date': date_list,\n",
    "                          'Temp': temp_list,\n",
    "                          'Precip': rain_list,\n",
    "                          'Moon Phase': moon_list})\n",
    "\n",
    "weather_df.head()\n"
   ]
  },
  {
   "cell_type": "code",
   "execution_count": 9,
   "metadata": {},
   "outputs": [
    {
     "name": "stdout",
     "output_type": "stream",
     "text": [
      "31\n",
      "2014-07-01\n",
      "31\n",
      "1.2\n",
      "New Moon\n"
     ]
    }
   ],
   "source": [
    "# Test Code Block\n",
    "start_date = '2014-07-01'\n",
    "end_date = '2014-07-31'\n",
    "weather_url = f\"http://api.worldweatheronline.com/premium/v1/past-weather.ashx?key={apikey}&q=Toronto&format=json&date={start_date}&enddate={end_date}&tp=24\"\n",
    "data = requests.get(weather_url).json()\n",
    "#pprint(data)\n",
    "print(len(data['data']['weather']))\n",
    "\n",
    "# Date\n",
    "print(data['data']['weather'][0]['date'])\n",
    "# Temperature\n",
    "print(data['data']['weather'][0]['hourly'][0]['tempC'])\n",
    "# Precipitation\n",
    "print(data['data']['weather'][0]['hourly'][0]['precipMM'])\n",
    "# Moon_phase\n",
    "print(data['data']['weather'][0]['astronomy'][0]['moon_phase'])"
   ]
  },
  {
   "cell_type": "code",
   "execution_count": 10,
   "metadata": {},
   "outputs": [
    {
     "data": {
      "text/html": [
       "<div>\n",
       "<style scoped>\n",
       "    .dataframe tbody tr th:only-of-type {\n",
       "        vertical-align: middle;\n",
       "    }\n",
       "\n",
       "    .dataframe tbody tr th {\n",
       "        vertical-align: top;\n",
       "    }\n",
       "\n",
       "    .dataframe thead th {\n",
       "        text-align: right;\n",
       "    }\n",
       "</style>\n",
       "<table border=\"1\" class=\"dataframe\">\n",
       "  <thead>\n",
       "    <tr style=\"text-align: right;\">\n",
       "      <th></th>\n",
       "      <th>Date</th>\n",
       "      <th>Day_of_week</th>\n",
       "      <th>Type</th>\n",
       "      <th>Temp</th>\n",
       "      <th>Precip</th>\n",
       "      <th>Moon Phase</th>\n",
       "    </tr>\n",
       "  </thead>\n",
       "  <tbody>\n",
       "    <tr>\n",
       "      <th>0</th>\n",
       "      <td>2014-01-25</td>\n",
       "      <td>Saturday</td>\n",
       "      <td>Assault</td>\n",
       "      <td>-1</td>\n",
       "      <td>3.1</td>\n",
       "      <td>Waning Gibbous</td>\n",
       "    </tr>\n",
       "    <tr>\n",
       "      <th>1</th>\n",
       "      <td>2014-01-25</td>\n",
       "      <td>Saturday</td>\n",
       "      <td>Assault</td>\n",
       "      <td>-1</td>\n",
       "      <td>3.1</td>\n",
       "      <td>Waning Gibbous</td>\n",
       "    </tr>\n",
       "    <tr>\n",
       "      <th>2</th>\n",
       "      <td>2014-01-25</td>\n",
       "      <td>Saturday</td>\n",
       "      <td>Assault</td>\n",
       "      <td>-1</td>\n",
       "      <td>3.1</td>\n",
       "      <td>Waning Gibbous</td>\n",
       "    </tr>\n",
       "    <tr>\n",
       "      <th>3</th>\n",
       "      <td>2014-01-25</td>\n",
       "      <td>Saturday</td>\n",
       "      <td>Break and Enter</td>\n",
       "      <td>-1</td>\n",
       "      <td>3.1</td>\n",
       "      <td>Waning Gibbous</td>\n",
       "    </tr>\n",
       "    <tr>\n",
       "      <th>4</th>\n",
       "      <td>2014-01-25</td>\n",
       "      <td>Saturday</td>\n",
       "      <td>Break and Enter</td>\n",
       "      <td>-1</td>\n",
       "      <td>3.1</td>\n",
       "      <td>Waning Gibbous</td>\n",
       "    </tr>\n",
       "  </tbody>\n",
       "</table>\n",
       "</div>"
      ],
      "text/plain": [
       "         Date Day_of_week             Type Temp Precip      Moon Phase\n",
       "0  2014-01-25  Saturday            Assault   -1    3.1  Waning Gibbous\n",
       "1  2014-01-25  Saturday            Assault   -1    3.1  Waning Gibbous\n",
       "2  2014-01-25  Saturday            Assault   -1    3.1  Waning Gibbous\n",
       "3  2014-01-25  Saturday    Break and Enter   -1    3.1  Waning Gibbous\n",
       "4  2014-01-25  Saturday    Break and Enter   -1    3.1  Waning Gibbous"
      ]
     },
     "execution_count": 10,
     "metadata": {},
     "output_type": "execute_result"
    }
   ],
   "source": [
    "#weather_crime_df = pd.merge(crime_df,weather_df,how='left', on='Date')\n",
    "weather_crime_df = pd.merge(crime_df,weather_df,how='left', on='Date').dropna()\n",
    "weather_crime_df.head()"
   ]
  },
  {
   "cell_type": "code",
   "execution_count": 56,
   "metadata": {},
   "outputs": [],
   "source": [
    "# Make new df with only the columns we need\n",
    "allcrimes_vs_allmoons_df = weather_crime_df.loc[:, ['Date', 'Type', 'Moon Phase']]\n",
    "\n",
    "\n",
    "#make df for all crimes vs full moon\n",
    "#allcrimes_fullmoon_df = allcrimes_vs_allmoons_df.loc[allcrimes_vs_allmoons_df['Moon Phase'] == 'Full Moon']\n",
    "#allcrimes_fullmoon_df.head()\n",
    "\n",
    "#make df for all crimes vs other moons\n",
    "#all_othermoons_df = \n",
    "\n",
    "\n",
    "##allcrimes_vs_allmoons_df = allcrimes_vs_allmoons_df.groupby([\"Date\"])\n",
    "#daycount_allcrimes_fullmoon_df[\"Type\"].count()\n",
    "#daycount_allcrimes_fullmoon_df[\"Date\"].count()\n",
    "##allcrimes_vs_allmoons_df.head()                           \n"
   ]
  },
  {
   "cell_type": "code",
   "execution_count": 122,
   "metadata": {},
   "outputs": [
    {
     "data": {
      "image/png": "[encoded data removed]",
      "text/plain": [
       "<Figure size 432x288 with 1 Axes>"
      ]
     },
     "metadata": {},
     "output_type": "display_data"
    }
   ],
   "source": [
    "# Non-full Moon Crime Counts By Type\n",
    "no_full_moon_df = pd.DataFrame((othermoons_df.iloc[0:5,:].values + \\\n",
    "             othermoons_df.iloc[10:15,:].values + \\\n",
    "             othermoons_df.iloc[15:20,:].values + \\\n",
    "             othermoons_df.iloc[20:25,:].values + \\\n",
    "             othermoons_df.iloc[25:30,:].values + \\\n",
    "             othermoons_df.iloc[30:35,:].values + \\\n",
    "             othermoons_df.iloc[35:40,:].values)/7, \\\n",
    "             ['Assault', 'Auto Theft', 'Break and Enter', 'Robbery', 'Theft Over'],\n",
    "             ['Number of Crimes'])\n",
    "\n",
    "# Full Moon Crime Counts By Type\n",
    "full_moon_df = pd.DataFrame(othermoons_df.iloc[5:10,:].values, \\\n",
    "                            ['Assault', 'Auto Theft', 'Break and Enter', 'Robbery', 'Theft Over'],\\\n",
    "                           ['Number of Crimes'])\n",
    "\n",
    "# Plot Number of Crimes by Type and Moon Phase\n",
    "fig = plt.figure()\n",
    "ax = fig.add_subplot(111)\n",
    "xloc = np.arange(5) # the x locations for the groups\n",
    "width = 0.3 # the width of the bars\n",
    "\n",
    "ax.set(title = 'Number of Crimes by Type and Moon Phase', xlabel = 'Moon Phase', ylabel = 'Number of Crimes')\n",
    "ax.bar(xloc, no_full_moon_df['Number of Crimes'], width, label = 'Non-Full Moon')\n",
    "ax.bar(xloc + width, full_moon_df['Number of Crimes'], width, label = 'Full Moon')\n",
    "plt.xticks(xloc, no_full_moon_df.index)\n",
    "ax.legend()\n",
    "plt.show()"
   ]
  },
  {
   "cell_type": "code",
   "execution_count": 115,
   "metadata": {
    "scrolled": true
   },
   "outputs": [
    {
     "name": "stdout",
     "output_type": "stream",
     "text": [
      "p-value = : 0.948\n"
     ]
    }
   ],
   "source": [
    "# Two Sample T Test\n",
    "import scipy.stats as stats\n",
    "_, pvalue = stats.ttest_ind(full_moon_df, no_full_moon_df)\n",
    "print(f\"p-value = : {round(pvalue[0], 3)}\")"
   ]
  },
  {
   "cell_type": "code",
   "execution_count": 123,
   "metadata": {},
   "outputs": [
    {
     "ename": "TypeError",
     "evalue": "unhashable type: 'numpy.ndarray'",
     "output_type": "error",
     "traceback": [
      "\u001b[1;31m---------------------------------------------------------------------------\u001b[0m",
      "\u001b[1;31mTypeError\u001b[0m                                 Traceback (most recent call last)",
      "\u001b[1;32m<ipython-input-123-3419cb05b10d>\u001b[0m in \u001b[0;36m<module>\u001b[1;34m()\u001b[0m\n\u001b[0;32m     12\u001b[0m \u001b[0msb\u001b[0m\u001b[1;33m.\u001b[0m\u001b[0mset_style\u001b[0m\u001b[1;33m(\u001b[0m\u001b[1;34m\"darkgrid\"\u001b[0m\u001b[1;33m)\u001b[0m\u001b[1;33m\u001b[0m\u001b[0m\n\u001b[0;32m     13\u001b[0m \u001b[0mfig\u001b[0m\u001b[1;33m,\u001b[0m \u001b[0max\u001b[0m \u001b[1;33m=\u001b[0m \u001b[0mplt\u001b[0m\u001b[1;33m.\u001b[0m\u001b[0msubplots\u001b[0m\u001b[1;33m(\u001b[0m\u001b[0mfigsize\u001b[0m\u001b[1;33m=\u001b[0m\u001b[1;33m(\u001b[0m\u001b[1;36m12\u001b[0m\u001b[1;33m,\u001b[0m \u001b[1;36m10\u001b[0m\u001b[1;33m)\u001b[0m\u001b[1;33m)\u001b[0m\u001b[1;33m\u001b[0m\u001b[0m\n\u001b[1;32m---> 14\u001b[1;33m \u001b[0max\u001b[0m\u001b[1;33m.\u001b[0m\u001b[0mscatter\u001b[0m\u001b[1;33m(\u001b[0m\u001b[0mallcrimes_vs_allmoons_df\u001b[0m\u001b[1;33m,\u001b[0m \u001b[0mno_full_moon_df\u001b[0m\u001b[1;33m)\u001b[0m\u001b[1;33m\u001b[0m\u001b[0m\n\u001b[0m\u001b[0;32m     15\u001b[0m \u001b[1;33m\u001b[0m\u001b[0m\n\u001b[0;32m     16\u001b[0m \u001b[1;33m\u001b[0m\u001b[0m\n",
      "\u001b[1;32mC:\\ProgramData\\Anaconda3\\lib\\site-packages\\matplotlib\\__init__.py\u001b[0m in \u001b[0;36minner\u001b[1;34m(ax, *args, **kwargs)\u001b[0m\n\u001b[0;32m   1865\u001b[0m                         \u001b[1;34m\"the Matplotlib list!)\"\u001b[0m \u001b[1;33m%\u001b[0m \u001b[1;33m(\u001b[0m\u001b[0mlabel_namer\u001b[0m\u001b[1;33m,\u001b[0m \u001b[0mfunc\u001b[0m\u001b[1;33m.\u001b[0m\u001b[0m__name__\u001b[0m\u001b[1;33m)\u001b[0m\u001b[1;33m,\u001b[0m\u001b[1;33m\u001b[0m\u001b[0m\n\u001b[0;32m   1866\u001b[0m                         RuntimeWarning, stacklevel=2)\n\u001b[1;32m-> 1867\u001b[1;33m             \u001b[1;32mreturn\u001b[0m \u001b[0mfunc\u001b[0m\u001b[1;33m(\u001b[0m\u001b[0max\u001b[0m\u001b[1;33m,\u001b[0m \u001b[1;33m*\u001b[0m\u001b[0margs\u001b[0m\u001b[1;33m,\u001b[0m \u001b[1;33m**\u001b[0m\u001b[0mkwargs\u001b[0m\u001b[1;33m)\u001b[0m\u001b[1;33m\u001b[0m\u001b[0m\n\u001b[0m\u001b[0;32m   1868\u001b[0m \u001b[1;33m\u001b[0m\u001b[0m\n\u001b[0;32m   1869\u001b[0m         inner.__doc__ = _add_data_doc(inner.__doc__,\n",
      "\u001b[1;32mC:\\ProgramData\\Anaconda3\\lib\\site-packages\\matplotlib\\axes\\_axes.py\u001b[0m in \u001b[0;36mscatter\u001b[1;34m(self, x, y, s, c, marker, cmap, norm, vmin, vmax, alpha, linewidths, verts, edgecolors, **kwargs)\u001b[0m\n\u001b[0;32m   4245\u001b[0m             \u001b[0medgecolors\u001b[0m \u001b[1;33m=\u001b[0m \u001b[1;34m'face'\u001b[0m\u001b[1;33m\u001b[0m\u001b[0m\n\u001b[0;32m   4246\u001b[0m \u001b[1;33m\u001b[0m\u001b[0m\n\u001b[1;32m-> 4247\u001b[1;33m         \u001b[0mself\u001b[0m\u001b[1;33m.\u001b[0m\u001b[0m_process_unit_info\u001b[0m\u001b[1;33m(\u001b[0m\u001b[0mxdata\u001b[0m\u001b[1;33m=\u001b[0m\u001b[0mx\u001b[0m\u001b[1;33m,\u001b[0m \u001b[0mydata\u001b[0m\u001b[1;33m=\u001b[0m\u001b[0my\u001b[0m\u001b[1;33m,\u001b[0m \u001b[0mkwargs\u001b[0m\u001b[1;33m=\u001b[0m\u001b[0mkwargs\u001b[0m\u001b[1;33m)\u001b[0m\u001b[1;33m\u001b[0m\u001b[0m\n\u001b[0m\u001b[0;32m   4248\u001b[0m         \u001b[0mx\u001b[0m \u001b[1;33m=\u001b[0m \u001b[0mself\u001b[0m\u001b[1;33m.\u001b[0m\u001b[0mconvert_xunits\u001b[0m\u001b[1;33m(\u001b[0m\u001b[0mx\u001b[0m\u001b[1;33m)\u001b[0m\u001b[1;33m\u001b[0m\u001b[0m\n\u001b[0;32m   4249\u001b[0m         \u001b[0my\u001b[0m \u001b[1;33m=\u001b[0m \u001b[0mself\u001b[0m\u001b[1;33m.\u001b[0m\u001b[0mconvert_yunits\u001b[0m\u001b[1;33m(\u001b[0m\u001b[0my\u001b[0m\u001b[1;33m)\u001b[0m\u001b[1;33m\u001b[0m\u001b[0m\n",
      "\u001b[1;32mC:\\ProgramData\\Anaconda3\\lib\\site-packages\\matplotlib\\axes\\_base.py\u001b[0m in \u001b[0;36m_process_unit_info\u001b[1;34m(self, xdata, ydata, kwargs)\u001b[0m\n\u001b[0;32m   2165\u001b[0m             \u001b[1;31m# we only need to update if there is nothing set yet.\u001b[0m\u001b[1;33m\u001b[0m\u001b[1;33m\u001b[0m\u001b[0m\n\u001b[0;32m   2166\u001b[0m             \u001b[1;32mif\u001b[0m \u001b[1;32mnot\u001b[0m \u001b[0mself\u001b[0m\u001b[1;33m.\u001b[0m\u001b[0mxaxis\u001b[0m\u001b[1;33m.\u001b[0m\u001b[0mhave_units\u001b[0m\u001b[1;33m(\u001b[0m\u001b[1;33m)\u001b[0m\u001b[1;33m:\u001b[0m\u001b[1;33m\u001b[0m\u001b[0m\n\u001b[1;32m-> 2167\u001b[1;33m                 \u001b[0mself\u001b[0m\u001b[1;33m.\u001b[0m\u001b[0mxaxis\u001b[0m\u001b[1;33m.\u001b[0m\u001b[0mupdate_units\u001b[0m\u001b[1;33m(\u001b[0m\u001b[0mxdata\u001b[0m\u001b[1;33m)\u001b[0m\u001b[1;33m\u001b[0m\u001b[0m\n\u001b[0m\u001b[0;32m   2168\u001b[0m \u001b[1;33m\u001b[0m\u001b[0m\n\u001b[0;32m   2169\u001b[0m         \u001b[1;32mif\u001b[0m \u001b[0mydata\u001b[0m \u001b[1;32mis\u001b[0m \u001b[1;32mnot\u001b[0m \u001b[1;32mNone\u001b[0m\u001b[1;33m:\u001b[0m\u001b[1;33m\u001b[0m\u001b[0m\n",
      "\u001b[1;32mC:\\ProgramData\\Anaconda3\\lib\\site-packages\\matplotlib\\axis.py\u001b[0m in \u001b[0;36mupdate_units\u001b[1;34m(self, data)\u001b[0m\n\u001b[0;32m   1467\u001b[0m         \u001b[0mneednew\u001b[0m \u001b[1;33m=\u001b[0m \u001b[0mself\u001b[0m\u001b[1;33m.\u001b[0m\u001b[0mconverter\u001b[0m \u001b[1;33m!=\u001b[0m \u001b[0mconverter\u001b[0m\u001b[1;33m\u001b[0m\u001b[0m\n\u001b[0;32m   1468\u001b[0m         \u001b[0mself\u001b[0m\u001b[1;33m.\u001b[0m\u001b[0mconverter\u001b[0m \u001b[1;33m=\u001b[0m \u001b[0mconverter\u001b[0m\u001b[1;33m\u001b[0m\u001b[0m\n\u001b[1;32m-> 1469\u001b[1;33m         \u001b[0mdefault\u001b[0m \u001b[1;33m=\u001b[0m \u001b[0mself\u001b[0m\u001b[1;33m.\u001b[0m\u001b[0mconverter\u001b[0m\u001b[1;33m.\u001b[0m\u001b[0mdefault_units\u001b[0m\u001b[1;33m(\u001b[0m\u001b[0mdata\u001b[0m\u001b[1;33m,\u001b[0m \u001b[0mself\u001b[0m\u001b[1;33m)\u001b[0m\u001b[1;33m\u001b[0m\u001b[0m\n\u001b[0m\u001b[0;32m   1470\u001b[0m         \u001b[1;32mif\u001b[0m \u001b[0mdefault\u001b[0m \u001b[1;32mis\u001b[0m \u001b[1;32mnot\u001b[0m \u001b[1;32mNone\u001b[0m \u001b[1;32mand\u001b[0m \u001b[0mself\u001b[0m\u001b[1;33m.\u001b[0m\u001b[0munits\u001b[0m \u001b[1;32mis\u001b[0m \u001b[1;32mNone\u001b[0m\u001b[1;33m:\u001b[0m\u001b[1;33m\u001b[0m\u001b[0m\n\u001b[0;32m   1471\u001b[0m             \u001b[0mself\u001b[0m\u001b[1;33m.\u001b[0m\u001b[0mset_units\u001b[0m\u001b[1;33m(\u001b[0m\u001b[0mdefault\u001b[0m\u001b[1;33m)\u001b[0m\u001b[1;33m\u001b[0m\u001b[0m\n",
      "\u001b[1;32mC:\\ProgramData\\Anaconda3\\lib\\site-packages\\matplotlib\\category.py\u001b[0m in \u001b[0;36mdefault_units\u001b[1;34m(data, axis)\u001b[0m\n\u001b[0;32m    113\u001b[0m         \u001b[1;31m# default_units->axis_info->convert\u001b[0m\u001b[1;33m\u001b[0m\u001b[1;33m\u001b[0m\u001b[0m\n\u001b[0;32m    114\u001b[0m         \u001b[1;32mif\u001b[0m \u001b[0maxis\u001b[0m\u001b[1;33m.\u001b[0m\u001b[0munits\u001b[0m \u001b[1;32mis\u001b[0m \u001b[1;32mNone\u001b[0m\u001b[1;33m:\u001b[0m\u001b[1;33m\u001b[0m\u001b[0m\n\u001b[1;32m--> 115\u001b[1;33m             \u001b[0maxis\u001b[0m\u001b[1;33m.\u001b[0m\u001b[0mset_units\u001b[0m\u001b[1;33m(\u001b[0m\u001b[0mUnitData\u001b[0m\u001b[1;33m(\u001b[0m\u001b[0mdata\u001b[0m\u001b[1;33m)\u001b[0m\u001b[1;33m)\u001b[0m\u001b[1;33m\u001b[0m\u001b[0m\n\u001b[0m\u001b[0;32m    116\u001b[0m         \u001b[1;32melse\u001b[0m\u001b[1;33m:\u001b[0m\u001b[1;33m\u001b[0m\u001b[0m\n\u001b[0;32m    117\u001b[0m             \u001b[0maxis\u001b[0m\u001b[1;33m.\u001b[0m\u001b[0munits\u001b[0m\u001b[1;33m.\u001b[0m\u001b[0mupdate\u001b[0m\u001b[1;33m(\u001b[0m\u001b[0mdata\u001b[0m\u001b[1;33m)\u001b[0m\u001b[1;33m\u001b[0m\u001b[0m\n",
      "\u001b[1;32mC:\\ProgramData\\Anaconda3\\lib\\site-packages\\matplotlib\\category.py\u001b[0m in \u001b[0;36m__init__\u001b[1;34m(self, data)\u001b[0m\n\u001b[0;32m    180\u001b[0m         \u001b[0mself\u001b[0m\u001b[1;33m.\u001b[0m\u001b[0m_counter\u001b[0m \u001b[1;33m=\u001b[0m \u001b[0mitertools\u001b[0m\u001b[1;33m.\u001b[0m\u001b[0mcount\u001b[0m\u001b[1;33m(\u001b[0m\u001b[0mstart\u001b[0m\u001b[1;33m=\u001b[0m\u001b[1;36m0\u001b[0m\u001b[1;33m)\u001b[0m\u001b[1;33m\u001b[0m\u001b[0m\n\u001b[0;32m    181\u001b[0m         \u001b[1;32mif\u001b[0m \u001b[0mdata\u001b[0m \u001b[1;32mis\u001b[0m \u001b[1;32mnot\u001b[0m \u001b[1;32mNone\u001b[0m\u001b[1;33m:\u001b[0m\u001b[1;33m\u001b[0m\u001b[0m\n\u001b[1;32m--> 182\u001b[1;33m             \u001b[0mself\u001b[0m\u001b[1;33m.\u001b[0m\u001b[0mupdate\u001b[0m\u001b[1;33m(\u001b[0m\u001b[0mdata\u001b[0m\u001b[1;33m)\u001b[0m\u001b[1;33m\u001b[0m\u001b[0m\n\u001b[0m\u001b[0;32m    183\u001b[0m \u001b[1;33m\u001b[0m\u001b[0m\n\u001b[0;32m    184\u001b[0m     \u001b[1;32mdef\u001b[0m \u001b[0mupdate\u001b[0m\u001b[1;33m(\u001b[0m\u001b[0mself\u001b[0m\u001b[1;33m,\u001b[0m \u001b[0mdata\u001b[0m\u001b[1;33m)\u001b[0m\u001b[1;33m:\u001b[0m\u001b[1;33m\u001b[0m\u001b[0m\n",
      "\u001b[1;32mC:\\ProgramData\\Anaconda3\\lib\\site-packages\\matplotlib\\category.py\u001b[0m in \u001b[0;36mupdate\u001b[1;34m(self, data)\u001b[0m\n\u001b[0;32m    197\u001b[0m         \u001b[0mdata\u001b[0m \u001b[1;33m=\u001b[0m \u001b[0mnp\u001b[0m\u001b[1;33m.\u001b[0m\u001b[0matleast_1d\u001b[0m\u001b[1;33m(\u001b[0m\u001b[0mnp\u001b[0m\u001b[1;33m.\u001b[0m\u001b[0marray\u001b[0m\u001b[1;33m(\u001b[0m\u001b[0mdata\u001b[0m\u001b[1;33m,\u001b[0m \u001b[0mdtype\u001b[0m\u001b[1;33m=\u001b[0m\u001b[0mobject\u001b[0m\u001b[1;33m)\u001b[0m\u001b[1;33m)\u001b[0m\u001b[1;33m\u001b[0m\u001b[0m\n\u001b[0;32m    198\u001b[0m \u001b[1;33m\u001b[0m\u001b[0m\n\u001b[1;32m--> 199\u001b[1;33m         \u001b[1;32mfor\u001b[0m \u001b[0mval\u001b[0m \u001b[1;32min\u001b[0m \u001b[0mOrderedDict\u001b[0m\u001b[1;33m.\u001b[0m\u001b[0mfromkeys\u001b[0m\u001b[1;33m(\u001b[0m\u001b[0mdata\u001b[0m\u001b[1;33m)\u001b[0m\u001b[1;33m:\u001b[0m\u001b[1;33m\u001b[0m\u001b[0m\n\u001b[0m\u001b[0;32m    200\u001b[0m             \u001b[1;32mif\u001b[0m \u001b[1;32mnot\u001b[0m \u001b[0misinstance\u001b[0m\u001b[1;33m(\u001b[0m\u001b[0mval\u001b[0m\u001b[1;33m,\u001b[0m \u001b[0mVALID_TYPES\u001b[0m\u001b[1;33m)\u001b[0m\u001b[1;33m:\u001b[0m\u001b[1;33m\u001b[0m\u001b[0m\n\u001b[0;32m    201\u001b[0m                 \u001b[1;32mraise\u001b[0m \u001b[0mTypeError\u001b[0m\u001b[1;33m(\u001b[0m\u001b[1;34m\"{val!r} is not a string\"\u001b[0m\u001b[1;33m.\u001b[0m\u001b[0mformat\u001b[0m\u001b[1;33m(\u001b[0m\u001b[0mval\u001b[0m\u001b[1;33m=\u001b[0m\u001b[0mval\u001b[0m\u001b[1;33m)\u001b[0m\u001b[1;33m)\u001b[0m\u001b[1;33m\u001b[0m\u001b[0m\n",
      "\u001b[1;31mTypeError\u001b[0m: unhashable type: 'numpy.ndarray'"
     ]
    },
    {
     "data": {
      "image/png": "[encoded data removed]",
      "text/plain": [
       "<Figure size 864x720 with 1 Axes>"
      ]
     },
     "metadata": {},
     "output_type": "display_data"
    }
   ],
   "source": [
    "\n",
    "colors = {'Assault':'lightcoral', 'Break and Enter':'lightskyblue', 'Robbery':'gold', 'Auto Theft':'green', 'Theft Over':'red'}\n",
    "\n",
    "import matplotlib.patches as mpatches\n",
    "\n",
    "AS = mpatches.Circle((0.5, 0.5), 0.1, facecolor=\"lightcoral\",alpha=.8,edgecolor=\"black\",linewidth=1)\n",
    "BE = mpatches.Circle((0.5, 0.5), 0.1, facecolor=\"lightskyblue\",alpha=.8,edgecolor=\"black\", linewidth=1)\n",
    "RB = mpatches.Circle((0.5, 0.5), 0.1, facecolor=\"gold\",alpha=.8,edgecolor=\"black\", linewidth=1)\n",
    "AT = mpatches.Circle((0.5, 0.5), 0.1, facecolor=\"green\",alpha=.8,edgecolor=\"black\", linewidth=1)\n",
    "TO = mpatches.Circle((0.5, 0.5), 0.1, facecolor=\"red\",alpha=.8,edgecolor=\"black\", linewidth=1)\n",
    "\n",
    "sb.set_style(\"darkgrid\") \n",
    "fig, ax = plt.subplots(figsize=(12, 10))\n",
    "ax.scatter(allcrimes_vs_allmoons_df, no_full_moon_df)\n",
    "           \n",
    "       \n",
    "           \n",
    "#ax.legend([AS,BE,RB,AT,TO],[\"Assult\",\"Break & Enter\",\"Robbery\",\"Auto Theft\",\"Theft Over\"],title='Crime by Moon Phase')\n",
    "\n",
    " # x and y limits\n",
    "#ax.set_xlim(0, max(df['xxxx'])+2)\n",
    "#ax.set_ylim(15, max(df['xxxxx'])+1)\n",
    "#ax.set_xlabel(\"xxxxx (xxxxxx)\")\n",
    "#ax.set_ylabel(\"xxxxxx\")\n",
    "#ax.set_title(\"xxxxx\")\n"
   ]
  },
  {
   "cell_type": "code",
   "execution_count": null,
   "metadata": {},
   "outputs": [],
   "source": []
  },
  {
   "cell_type": "code",
   "execution_count": null,
   "metadata": {},
   "outputs": [],
   "source": []
  },
  {
   "cell_type": "code",
   "execution_count": null,
   "metadata": {},
   "outputs": [],
   "source": []
  },
  {
   "cell_type": "code",
   "execution_count": null,
   "metadata": {},
   "outputs": [],
   "source": []
  }
 ],
 "metadata": {
  "kernelspec": {
   "display_name": "Python 3",
   "language": "python",
   "name": "python3"
  },
  "language_info": {
   "codemirror_mode": {
    "name": "ipython",
    "version": 3
   },
   "file_extension": ".py",
   "mimetype": "text/x-python",
   "name": "python",
   "nbconvert_exporter": "python",
   "pygments_lexer": "ipython3",
   "version": "3.7.0"
  }
 },
 "nbformat": 4,
 "nbformat_minor": 2
}
